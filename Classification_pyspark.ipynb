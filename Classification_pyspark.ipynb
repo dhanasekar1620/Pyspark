{
  "nbformat": 4,
  "nbformat_minor": 0,
  "metadata": {
    "colab": {
      "provenance": [],
      "collapsed_sections": [
        "lQbRD9TkJfeJ",
        "AStKRAvgJsMp",
        "t_vMrufIKoTJ",
        "X1pJN8uDKUaS",
        "-VU6DmsqMKlr",
        "-B7hJhYFObES"
      ]
    },
    "kernelspec": {
      "name": "python3",
      "display_name": "Python 3"
    },
    "language_info": {
      "name": "python"
    }
  },
  "cells": [
    {
      "cell_type": "code",
      "source": [
        "!pip install pyspark --quiet"
      ],
      "metadata": {
        "colab": {
          "base_uri": "https://localhost:8080/"
        },
        "id": "pmW5Zs3FEv5P",
        "outputId": "b6c941ae-a73b-4cb8-aaa6-12697680b9bf"
      },
      "execution_count": 2,
      "outputs": [
        {
          "output_type": "stream",
          "name": "stdout",
          "text": [
            "\u001b[K     |████████████████████████████████| 281.4 MB 45 kB/s \n",
            "\u001b[K     |████████████████████████████████| 199 kB 60.2 MB/s \n",
            "\u001b[?25h  Building wheel for pyspark (setup.py) ... \u001b[?25l\u001b[?25hdone\n"
          ]
        }
      ]
    },
    {
      "cell_type": "code",
      "execution_count": 3,
      "metadata": {
        "colab": {
          "base_uri": "https://localhost:8080/"
        },
        "id": "4_2cuW8xEaJf",
        "outputId": "085b64de-17cc-4ad4-b3f8-7cba4ab27d7c"
      },
      "outputs": [
        {
          "output_type": "stream",
          "name": "stdout",
          "text": [
            "<pyspark.sql.session.SparkSession object at 0x7f6a56595450>\n"
          ]
        }
      ],
      "source": [
        "# Import SparkSession from pyspark.sql\n",
        "from pyspark.sql import SparkSession\n",
        "\n",
        "# Create my_spark\n",
        "my_spark = SparkSession.builder.getOrCreate()\n",
        "\n",
        "# Print my_spark\n",
        "print(my_spark)"
      ]
    },
    {
      "cell_type": "code",
      "source": [
        "!pip install opendatasets --quiet"
      ],
      "metadata": {
        "id": "RvxyTwNIG-Zi"
      },
      "execution_count": 7,
      "outputs": []
    },
    {
      "cell_type": "code",
      "source": [
        "import opendatasets as od"
      ],
      "metadata": {
        "id": "QJhZWJ-FHGZh"
      },
      "execution_count": 8,
      "outputs": []
    },
    {
      "cell_type": "code",
      "source": [
        "od.download('https://www.kaggle.com/datasets/meirnizri/covid19-dataset')"
      ],
      "metadata": {
        "colab": {
          "base_uri": "https://localhost:8080/"
        },
        "id": "0wj2M8ywHJNx",
        "outputId": "c9f98b00-e07e-4638-8e49-7fad6118e93a"
      },
      "execution_count": 9,
      "outputs": [
        {
          "output_type": "stream",
          "name": "stdout",
          "text": [
            "Please provide your Kaggle credentials to download this dataset. Learn more: http://bit.ly/kaggle-creds\n",
            "Your Kaggle username: dhanasekar1620\n",
            "Your Kaggle Key: ··········\n",
            "Downloading covid19-dataset.zip to ./covid19-dataset\n"
          ]
        },
        {
          "output_type": "stream",
          "name": "stderr",
          "text": [
            "100%|██████████| 4.66M/4.66M [00:00<00:00, 171MB/s]"
          ]
        },
        {
          "output_type": "stream",
          "name": "stdout",
          "text": [
            "\n"
          ]
        },
        {
          "output_type": "stream",
          "name": "stderr",
          "text": [
            "\n"
          ]
        }
      ]
    },
    {
      "cell_type": "code",
      "source": [
        "import os"
      ],
      "metadata": {
        "id": "FoGxvJvYHdSw"
      },
      "execution_count": 11,
      "outputs": []
    },
    {
      "cell_type": "code",
      "source": [
        "os.listdir('covid19-dataset')"
      ],
      "metadata": {
        "colab": {
          "base_uri": "https://localhost:8080/"
        },
        "id": "H97fTVY1HanR",
        "outputId": "54df09ef-9d9a-420d-8db9-f60aa04ae9be"
      },
      "execution_count": 14,
      "outputs": [
        {
          "output_type": "execute_result",
          "data": {
            "text/plain": [
              "['Covid Data.csv']"
            ]
          },
          "metadata": {},
          "execution_count": 14
        }
      ]
    },
    {
      "cell_type": "code",
      "source": [
        "df=my_spark.read.csv('covid19-dataset/Covid Data.csv',header=True,inferSchema=True)"
      ],
      "metadata": {
        "id": "5LUIN1SJEqLn"
      },
      "execution_count": 30,
      "outputs": []
    },
    {
      "cell_type": "markdown",
      "source": [
        "##Analyze the data"
      ],
      "metadata": {
        "id": "B2LouAcEOvZJ"
      }
    },
    {
      "cell_type": "code",
      "source": [
        "df.show()"
      ],
      "metadata": {
        "colab": {
          "base_uri": "https://localhost:8080/"
        },
        "id": "O5Yj2t50IMsR",
        "outputId": "b7f1a187-88ba-43de-c763-28539d26ecc4"
      },
      "execution_count": 31,
      "outputs": [
        {
          "output_type": "stream",
          "name": "stdout",
          "text": [
            "+-----+------------+---+------------+----------+-------+---------+---+--------+--------+----+------+-------+------------+-------------+--------------+-------+-------------+-------+--------------------+---+\n",
            "|USMER|MEDICAL_UNIT|SEX|PATIENT_TYPE| DATE_DIED|INTUBED|PNEUMONIA|AGE|PREGNANT|DIABETES|COPD|ASTHMA|INMSUPR|HIPERTENSION|OTHER_DISEASE|CARDIOVASCULAR|OBESITY|RENAL_CHRONIC|TOBACCO|CLASIFFICATION_FINAL|ICU|\n",
            "+-----+------------+---+------------+----------+-------+---------+---+--------+--------+----+------+-------+------------+-------------+--------------+-------+-------------+-------+--------------------+---+\n",
            "|    2|           1|  1|           1|03/05/2020|     97|        1| 65|       2|       2|   2|     2|      2|           1|            2|             2|      2|            2|      2|                   3| 97|\n",
            "|    2|           1|  2|           1|03/06/2020|     97|        1| 72|      97|       2|   2|     2|      2|           1|            2|             2|      1|            1|      2|                   5| 97|\n",
            "|    2|           1|  2|           2|09/06/2020|      1|        2| 55|      97|       1|   2|     2|      2|           2|            2|             2|      2|            2|      2|                   3|  2|\n",
            "|    2|           1|  1|           1|12/06/2020|     97|        2| 53|       2|       2|   2|     2|      2|           2|            2|             2|      2|            2|      2|                   7| 97|\n",
            "|    2|           1|  2|           1|21/06/2020|     97|        2| 68|      97|       1|   2|     2|      2|           1|            2|             2|      2|            2|      2|                   3| 97|\n",
            "|    2|           1|  1|           2|9999-99-99|      2|        1| 40|       2|       2|   2|     2|      2|           2|            2|             2|      2|            2|      2|                   3|  2|\n",
            "|    2|           1|  1|           1|9999-99-99|     97|        2| 64|       2|       2|   2|     2|      2|           2|            2|             2|      2|            2|      2|                   3| 97|\n",
            "|    2|           1|  1|           1|9999-99-99|     97|        1| 64|       2|       1|   2|     2|      1|           1|            2|             2|      2|            1|      2|                   3| 97|\n",
            "|    2|           1|  1|           2|9999-99-99|      2|        2| 37|       2|       1|   2|     2|      2|           1|            2|             2|      1|            2|      2|                   3|  2|\n",
            "|    2|           1|  1|           2|9999-99-99|      2|        2| 25|       2|       2|   2|     2|      2|           2|            2|             2|      2|            2|      2|                   3|  2|\n",
            "|    2|           1|  1|           1|9999-99-99|     97|        2| 38|       2|       2|   2|     2|      2|           2|            2|             2|      2|            2|      2|                   3| 97|\n",
            "|    2|           1|  2|           2|9999-99-99|      2|        2| 24|      97|       2|   2|     2|      2|           2|            2|             2|      2|            2|      2|                   3|  2|\n",
            "|    2|           1|  2|           2|9999-99-99|      2|        2| 30|      97|       2|   2|     2|      2|           2|            2|             2|      2|            2|      2|                   3|  2|\n",
            "|    2|           1|  2|           1|9999-99-99|     97|        2| 55|      97|       2|   2|     2|      2|           2|            2|             2|      2|            2|      2|                   3| 97|\n",
            "|    2|           1|  1|           1|9999-99-99|     97|        2| 48|       2|       1|   2|     2|      2|           2|            2|             2|      2|            2|      2|                   3| 97|\n",
            "|    2|           1|  1|           1|9999-99-99|     97|        2| 23|       2|       2|   2|     2|      2|           2|            2|             2|      2|            2|      2|                   3| 97|\n",
            "|    2|           1|  1|           2|9999-99-99|      2|        1| 80|       2|       2|   2|     2|      2|           1|            2|             2|      2|            2|      2|                   3|  1|\n",
            "|    2|           1|  2|           1|9999-99-99|     97|        2| 61|      97|       2|   2|     2|      2|           2|            2|             2|      2|            2|      2|                   3| 97|\n",
            "|    2|           1|  2|           1|9999-99-99|     97|        2| 54|      97|       2|   2|     2|      2|           2|            2|             2|      2|            2|      2|                   3| 97|\n",
            "|    2|           1|  1|           1|9999-99-99|     97|        2| 64|       2|       2|   2|     2|      2|           2|            2|             2|      2|            2|      2|                   3| 97|\n",
            "+-----+------------+---+------------+----------+-------+---------+---+--------+--------+----+------+-------+------------+-------------+--------------+-------+-------------+-------+--------------------+---+\n",
            "only showing top 20 rows\n",
            "\n"
          ]
        }
      ]
    },
    {
      "cell_type": "code",
      "source": [
        "df.printSchema()"
      ],
      "metadata": {
        "colab": {
          "base_uri": "https://localhost:8080/"
        },
        "id": "laDmMjWYFl1H",
        "outputId": "ab927d78-81f6-4907-d02a-dc0b50616857"
      },
      "execution_count": 32,
      "outputs": [
        {
          "output_type": "stream",
          "name": "stdout",
          "text": [
            "root\n",
            " |-- USMER: integer (nullable = true)\n",
            " |-- MEDICAL_UNIT: integer (nullable = true)\n",
            " |-- SEX: integer (nullable = true)\n",
            " |-- PATIENT_TYPE: integer (nullable = true)\n",
            " |-- DATE_DIED: string (nullable = true)\n",
            " |-- INTUBED: integer (nullable = true)\n",
            " |-- PNEUMONIA: integer (nullable = true)\n",
            " |-- AGE: integer (nullable = true)\n",
            " |-- PREGNANT: integer (nullable = true)\n",
            " |-- DIABETES: integer (nullable = true)\n",
            " |-- COPD: integer (nullable = true)\n",
            " |-- ASTHMA: integer (nullable = true)\n",
            " |-- INMSUPR: integer (nullable = true)\n",
            " |-- HIPERTENSION: integer (nullable = true)\n",
            " |-- OTHER_DISEASE: integer (nullable = true)\n",
            " |-- CARDIOVASCULAR: integer (nullable = true)\n",
            " |-- OBESITY: integer (nullable = true)\n",
            " |-- RENAL_CHRONIC: integer (nullable = true)\n",
            " |-- TOBACCO: integer (nullable = true)\n",
            " |-- CLASIFFICATION_FINAL: integer (nullable = true)\n",
            " |-- ICU: integer (nullable = true)\n",
            "\n"
          ]
        }
      ]
    },
    {
      "cell_type": "code",
      "source": [
        "df.columns"
      ],
      "metadata": {
        "colab": {
          "base_uri": "https://localhost:8080/"
        },
        "id": "nT5kkYXrH4af",
        "outputId": "fd0fdff1-d248-4741-99a7-ac40fd68f2a8"
      },
      "execution_count": 33,
      "outputs": [
        {
          "output_type": "execute_result",
          "data": {
            "text/plain": [
              "['USMER',\n",
              " 'MEDICAL_UNIT',\n",
              " 'SEX',\n",
              " 'PATIENT_TYPE',\n",
              " 'DATE_DIED',\n",
              " 'INTUBED',\n",
              " 'PNEUMONIA',\n",
              " 'AGE',\n",
              " 'PREGNANT',\n",
              " 'DIABETES',\n",
              " 'COPD',\n",
              " 'ASTHMA',\n",
              " 'INMSUPR',\n",
              " 'HIPERTENSION',\n",
              " 'OTHER_DISEASE',\n",
              " 'CARDIOVASCULAR',\n",
              " 'OBESITY',\n",
              " 'RENAL_CHRONIC',\n",
              " 'TOBACCO',\n",
              " 'CLASIFFICATION_FINAL',\n",
              " 'ICU']"
            ]
          },
          "metadata": {},
          "execution_count": 33
        }
      ]
    },
    {
      "cell_type": "code",
      "source": [
        "df.describe().show()"
      ],
      "metadata": {
        "colab": {
          "base_uri": "https://localhost:8080/"
        },
        "id": "bezKjOmoInSn",
        "outputId": "660c4de8-49a8-4271-92c6-e02f803e1267"
      },
      "execution_count": 34,
      "outputs": [
        {
          "output_type": "stream",
          "name": "stdout",
          "text": [
            "+-------+------------------+------------------+------------------+-------------------+----------+-----------------+------------------+------------------+-----------------+------------------+------------------+------------------+------------------+------------------+-----------------+------------------+-----------------+------------------+------------------+--------------------+-----------------+\n",
            "|summary|             USMER|      MEDICAL_UNIT|               SEX|       PATIENT_TYPE| DATE_DIED|          INTUBED|         PNEUMONIA|               AGE|         PREGNANT|          DIABETES|              COPD|            ASTHMA|           INMSUPR|      HIPERTENSION|    OTHER_DISEASE|    CARDIOVASCULAR|          OBESITY|     RENAL_CHRONIC|           TOBACCO|CLASIFFICATION_FINAL|              ICU|\n",
            "+-------+------------------+------------------+------------------+-------------------+----------+-----------------+------------------+------------------+-----------------+------------------+------------------+------------------+------------------+------------------+-----------------+------------------+-----------------+------------------+------------------+--------------------+-----------------+\n",
            "|  count|           1048575|           1048575|           1048575|            1048575|   1048575|          1048575|           1048575|           1048575|          1048575|           1048575|           1048575|           1048575|           1048575|           1048575|          1048575|           1048575|          1048575|           1048575|           1048575|             1048575|          1048575|\n",
            "|   mean|1.6321941682759935| 8.980565052571347|1.4992594711870872| 1.1907646091123667|      null|79.52287533080609|3.3468306988055216|41.794102472403026|49.76558472212288|2.1864044059795438|2.2605688672722506|2.2426264215721337|2.2981322270700715|2.1289893426793505|2.435142932074482|2.2618095987411486|2.125175595450969|2.2571795055193955|2.2143327849700785|   5.305652909901533|79.55397372624752|\n",
            "| stddev|0.4822083819543978|3.7232777781998068|0.4999996900354941|0.39290408529929133|      null|36.86888627504458|11.912881086508081|16.907389199431215|47.51073271107632| 5.424241787888338|5.1322580897607715| 5.114089259421973| 5.462843261101432| 5.236397094606129|6.646675591074688| 5.194850371652726|5.175445110188367|5.1353538533995104| 5.323097220663583|  1.8811654309355843|36.82307335289849|\n",
            "|    min|                 1|                 1|                 1|                  1|01/01/2021|                1|                 1|                 0|                1|                 1|                 1|                 1|                 1|                 1|                1|                 1|                1|                 1|                 1|                   1|                1|\n",
            "|    max|                 2|                13|                 2|                  2|9999-99-99|               99|                99|               121|               98|                98|                98|                98|                98|                98|               98|                98|               98|                98|                98|                   7|               99|\n",
            "+-------+------------------+------------------+------------------+-------------------+----------+-----------------+------------------+------------------+-----------------+------------------+------------------+------------------+------------------+------------------+-----------------+------------------+-----------------+------------------+------------------+--------------------+-----------------+\n",
            "\n"
          ]
        }
      ]
    },
    {
      "cell_type": "markdown",
      "source": [
        "####Select columns"
      ],
      "metadata": {
        "id": "lQbRD9TkJfeJ"
      }
    },
    {
      "cell_type": "code",
      "source": [
        "df.select('CLASIFFICATION_FINAL').show()"
      ],
      "metadata": {
        "colab": {
          "base_uri": "https://localhost:8080/"
        },
        "id": "Owvly8i1Ix1I",
        "outputId": "223bf789-6481-436d-87c9-38514e44c34b"
      },
      "execution_count": 35,
      "outputs": [
        {
          "output_type": "stream",
          "name": "stdout",
          "text": [
            "+--------------------+\n",
            "|CLASIFFICATION_FINAL|\n",
            "+--------------------+\n",
            "|                   3|\n",
            "|                   5|\n",
            "|                   3|\n",
            "|                   7|\n",
            "|                   3|\n",
            "|                   3|\n",
            "|                   3|\n",
            "|                   3|\n",
            "|                   3|\n",
            "|                   3|\n",
            "|                   3|\n",
            "|                   3|\n",
            "|                   3|\n",
            "|                   3|\n",
            "|                   3|\n",
            "|                   3|\n",
            "|                   3|\n",
            "|                   3|\n",
            "|                   3|\n",
            "|                   3|\n",
            "+--------------------+\n",
            "only showing top 20 rows\n",
            "\n"
          ]
        }
      ]
    },
    {
      "cell_type": "markdown",
      "source": [
        "####Add a column with calculation classification+2=CLASIFFICATION_FINAL+2"
      ],
      "metadata": {
        "id": "AStKRAvgJsMp"
      }
    },
    {
      "cell_type": "code",
      "source": [
        "df2=df.withColumn('classification+2',df['CLASIFFICATION_FINAL']+2)"
      ],
      "metadata": {
        "id": "Nap-o8FuJFs_"
      },
      "execution_count": 42,
      "outputs": []
    },
    {
      "cell_type": "markdown",
      "source": [
        "####rename columns"
      ],
      "metadata": {
        "id": "t_vMrufIKoTJ"
      }
    },
    {
      "cell_type": "code",
      "source": [
        "df2.show()"
      ],
      "metadata": {
        "colab": {
          "base_uri": "https://localhost:8080/"
        },
        "id": "11Mc-QloKoG5",
        "outputId": "d415fa97-b3ff-493f-fcda-14527347b2c2"
      },
      "execution_count": 43,
      "outputs": [
        {
          "output_type": "stream",
          "name": "stdout",
          "text": [
            "+-----+------------+---+------------+----------+-------+---------+---+--------+--------+----+------+-------+------------+-------------+--------------+-------+-------------+-------+--------------------+---+----------------+\n",
            "|USMER|MEDICAL_UNIT|SEX|PATIENT_TYPE| DATE_DIED|INTUBED|PNEUMONIA|AGE|PREGNANT|DIABETES|COPD|ASTHMA|INMSUPR|HIPERTENSION|OTHER_DISEASE|CARDIOVASCULAR|OBESITY|RENAL_CHRONIC|TOBACCO|CLASIFFICATION_FINAL|ICU|classification+2|\n",
            "+-----+------------+---+------------+----------+-------+---------+---+--------+--------+----+------+-------+------------+-------------+--------------+-------+-------------+-------+--------------------+---+----------------+\n",
            "|    2|           1|  1|           1|03/05/2020|     97|        1| 65|       2|       2|   2|     2|      2|           1|            2|             2|      2|            2|      2|                   3| 97|               5|\n",
            "|    2|           1|  2|           1|03/06/2020|     97|        1| 72|      97|       2|   2|     2|      2|           1|            2|             2|      1|            1|      2|                   5| 97|               7|\n",
            "|    2|           1|  2|           2|09/06/2020|      1|        2| 55|      97|       1|   2|     2|      2|           2|            2|             2|      2|            2|      2|                   3|  2|               5|\n",
            "|    2|           1|  1|           1|12/06/2020|     97|        2| 53|       2|       2|   2|     2|      2|           2|            2|             2|      2|            2|      2|                   7| 97|               9|\n",
            "|    2|           1|  2|           1|21/06/2020|     97|        2| 68|      97|       1|   2|     2|      2|           1|            2|             2|      2|            2|      2|                   3| 97|               5|\n",
            "|    2|           1|  1|           2|9999-99-99|      2|        1| 40|       2|       2|   2|     2|      2|           2|            2|             2|      2|            2|      2|                   3|  2|               5|\n",
            "|    2|           1|  1|           1|9999-99-99|     97|        2| 64|       2|       2|   2|     2|      2|           2|            2|             2|      2|            2|      2|                   3| 97|               5|\n",
            "|    2|           1|  1|           1|9999-99-99|     97|        1| 64|       2|       1|   2|     2|      1|           1|            2|             2|      2|            1|      2|                   3| 97|               5|\n",
            "|    2|           1|  1|           2|9999-99-99|      2|        2| 37|       2|       1|   2|     2|      2|           1|            2|             2|      1|            2|      2|                   3|  2|               5|\n",
            "|    2|           1|  1|           2|9999-99-99|      2|        2| 25|       2|       2|   2|     2|      2|           2|            2|             2|      2|            2|      2|                   3|  2|               5|\n",
            "|    2|           1|  1|           1|9999-99-99|     97|        2| 38|       2|       2|   2|     2|      2|           2|            2|             2|      2|            2|      2|                   3| 97|               5|\n",
            "|    2|           1|  2|           2|9999-99-99|      2|        2| 24|      97|       2|   2|     2|      2|           2|            2|             2|      2|            2|      2|                   3|  2|               5|\n",
            "|    2|           1|  2|           2|9999-99-99|      2|        2| 30|      97|       2|   2|     2|      2|           2|            2|             2|      2|            2|      2|                   3|  2|               5|\n",
            "|    2|           1|  2|           1|9999-99-99|     97|        2| 55|      97|       2|   2|     2|      2|           2|            2|             2|      2|            2|      2|                   3| 97|               5|\n",
            "|    2|           1|  1|           1|9999-99-99|     97|        2| 48|       2|       1|   2|     2|      2|           2|            2|             2|      2|            2|      2|                   3| 97|               5|\n",
            "|    2|           1|  1|           1|9999-99-99|     97|        2| 23|       2|       2|   2|     2|      2|           2|            2|             2|      2|            2|      2|                   3| 97|               5|\n",
            "|    2|           1|  1|           2|9999-99-99|      2|        1| 80|       2|       2|   2|     2|      2|           1|            2|             2|      2|            2|      2|                   3|  1|               5|\n",
            "|    2|           1|  2|           1|9999-99-99|     97|        2| 61|      97|       2|   2|     2|      2|           2|            2|             2|      2|            2|      2|                   3| 97|               5|\n",
            "|    2|           1|  2|           1|9999-99-99|     97|        2| 54|      97|       2|   2|     2|      2|           2|            2|             2|      2|            2|      2|                   3| 97|               5|\n",
            "|    2|           1|  1|           1|9999-99-99|     97|        2| 64|       2|       2|   2|     2|      2|           2|            2|             2|      2|            2|      2|                   3| 97|               5|\n",
            "+-----+------------+---+------------+----------+-------+---------+---+--------+--------+----+------+-------+------------+-------------+--------------+-------+-------------+-------+--------------------+---+----------------+\n",
            "only showing top 20 rows\n",
            "\n"
          ]
        }
      ]
    },
    {
      "cell_type": "code",
      "source": [
        "df2.withColumnRenamed('classification+2','class2').show()"
      ],
      "metadata": {
        "colab": {
          "base_uri": "https://localhost:8080/"
        },
        "id": "HUMtpsekKoDh",
        "outputId": "efab4831-16f3-456f-ba4a-9c40d299c41a"
      },
      "execution_count": 44,
      "outputs": [
        {
          "output_type": "stream",
          "name": "stdout",
          "text": [
            "+-----+------------+---+------------+----------+-------+---------+---+--------+--------+----+------+-------+------------+-------------+--------------+-------+-------------+-------+--------------------+---+------+\n",
            "|USMER|MEDICAL_UNIT|SEX|PATIENT_TYPE| DATE_DIED|INTUBED|PNEUMONIA|AGE|PREGNANT|DIABETES|COPD|ASTHMA|INMSUPR|HIPERTENSION|OTHER_DISEASE|CARDIOVASCULAR|OBESITY|RENAL_CHRONIC|TOBACCO|CLASIFFICATION_FINAL|ICU|class2|\n",
            "+-----+------------+---+------------+----------+-------+---------+---+--------+--------+----+------+-------+------------+-------------+--------------+-------+-------------+-------+--------------------+---+------+\n",
            "|    2|           1|  1|           1|03/05/2020|     97|        1| 65|       2|       2|   2|     2|      2|           1|            2|             2|      2|            2|      2|                   3| 97|     5|\n",
            "|    2|           1|  2|           1|03/06/2020|     97|        1| 72|      97|       2|   2|     2|      2|           1|            2|             2|      1|            1|      2|                   5| 97|     7|\n",
            "|    2|           1|  2|           2|09/06/2020|      1|        2| 55|      97|       1|   2|     2|      2|           2|            2|             2|      2|            2|      2|                   3|  2|     5|\n",
            "|    2|           1|  1|           1|12/06/2020|     97|        2| 53|       2|       2|   2|     2|      2|           2|            2|             2|      2|            2|      2|                   7| 97|     9|\n",
            "|    2|           1|  2|           1|21/06/2020|     97|        2| 68|      97|       1|   2|     2|      2|           1|            2|             2|      2|            2|      2|                   3| 97|     5|\n",
            "|    2|           1|  1|           2|9999-99-99|      2|        1| 40|       2|       2|   2|     2|      2|           2|            2|             2|      2|            2|      2|                   3|  2|     5|\n",
            "|    2|           1|  1|           1|9999-99-99|     97|        2| 64|       2|       2|   2|     2|      2|           2|            2|             2|      2|            2|      2|                   3| 97|     5|\n",
            "|    2|           1|  1|           1|9999-99-99|     97|        1| 64|       2|       1|   2|     2|      1|           1|            2|             2|      2|            1|      2|                   3| 97|     5|\n",
            "|    2|           1|  1|           2|9999-99-99|      2|        2| 37|       2|       1|   2|     2|      2|           1|            2|             2|      1|            2|      2|                   3|  2|     5|\n",
            "|    2|           1|  1|           2|9999-99-99|      2|        2| 25|       2|       2|   2|     2|      2|           2|            2|             2|      2|            2|      2|                   3|  2|     5|\n",
            "|    2|           1|  1|           1|9999-99-99|     97|        2| 38|       2|       2|   2|     2|      2|           2|            2|             2|      2|            2|      2|                   3| 97|     5|\n",
            "|    2|           1|  2|           2|9999-99-99|      2|        2| 24|      97|       2|   2|     2|      2|           2|            2|             2|      2|            2|      2|                   3|  2|     5|\n",
            "|    2|           1|  2|           2|9999-99-99|      2|        2| 30|      97|       2|   2|     2|      2|           2|            2|             2|      2|            2|      2|                   3|  2|     5|\n",
            "|    2|           1|  2|           1|9999-99-99|     97|        2| 55|      97|       2|   2|     2|      2|           2|            2|             2|      2|            2|      2|                   3| 97|     5|\n",
            "|    2|           1|  1|           1|9999-99-99|     97|        2| 48|       2|       1|   2|     2|      2|           2|            2|             2|      2|            2|      2|                   3| 97|     5|\n",
            "|    2|           1|  1|           1|9999-99-99|     97|        2| 23|       2|       2|   2|     2|      2|           2|            2|             2|      2|            2|      2|                   3| 97|     5|\n",
            "|    2|           1|  1|           2|9999-99-99|      2|        1| 80|       2|       2|   2|     2|      2|           1|            2|             2|      2|            2|      2|                   3|  1|     5|\n",
            "|    2|           1|  2|           1|9999-99-99|     97|        2| 61|      97|       2|   2|     2|      2|           2|            2|             2|      2|            2|      2|                   3| 97|     5|\n",
            "|    2|           1|  2|           1|9999-99-99|     97|        2| 54|      97|       2|   2|     2|      2|           2|            2|             2|      2|            2|      2|                   3| 97|     5|\n",
            "|    2|           1|  1|           1|9999-99-99|     97|        2| 64|       2|       2|   2|     2|      2|           2|            2|             2|      2|            2|      2|                   3| 97|     5|\n",
            "+-----+------------+---+------------+----------+-------+---------+---+--------+--------+----+------+-------+------------+-------------+--------------+-------+-------------+-------+--------------------+---+------+\n",
            "only showing top 20 rows\n",
            "\n"
          ]
        }
      ]
    },
    {
      "cell_type": "markdown",
      "source": [
        "####Drop a column"
      ],
      "metadata": {
        "id": "X1pJN8uDKUaS"
      }
    },
    {
      "cell_type": "code",
      "source": [
        "df2.drop('classification+2').show()"
      ],
      "metadata": {
        "colab": {
          "base_uri": "https://localhost:8080/"
        },
        "id": "2yMsTAjNKGRw",
        "outputId": "fe13b7ae-e19d-43f1-c14a-ca7024052b37"
      },
      "execution_count": 46,
      "outputs": [
        {
          "output_type": "stream",
          "name": "stdout",
          "text": [
            "+-----+------------+---+------------+----------+-------+---------+---+--------+--------+----+------+-------+------------+-------------+--------------+-------+-------------+-------+--------------------+---+\n",
            "|USMER|MEDICAL_UNIT|SEX|PATIENT_TYPE| DATE_DIED|INTUBED|PNEUMONIA|AGE|PREGNANT|DIABETES|COPD|ASTHMA|INMSUPR|HIPERTENSION|OTHER_DISEASE|CARDIOVASCULAR|OBESITY|RENAL_CHRONIC|TOBACCO|CLASIFFICATION_FINAL|ICU|\n",
            "+-----+------------+---+------------+----------+-------+---------+---+--------+--------+----+------+-------+------------+-------------+--------------+-------+-------------+-------+--------------------+---+\n",
            "|    2|           1|  1|           1|03/05/2020|     97|        1| 65|       2|       2|   2|     2|      2|           1|            2|             2|      2|            2|      2|                   3| 97|\n",
            "|    2|           1|  2|           1|03/06/2020|     97|        1| 72|      97|       2|   2|     2|      2|           1|            2|             2|      1|            1|      2|                   5| 97|\n",
            "|    2|           1|  2|           2|09/06/2020|      1|        2| 55|      97|       1|   2|     2|      2|           2|            2|             2|      2|            2|      2|                   3|  2|\n",
            "|    2|           1|  1|           1|12/06/2020|     97|        2| 53|       2|       2|   2|     2|      2|           2|            2|             2|      2|            2|      2|                   7| 97|\n",
            "|    2|           1|  2|           1|21/06/2020|     97|        2| 68|      97|       1|   2|     2|      2|           1|            2|             2|      2|            2|      2|                   3| 97|\n",
            "|    2|           1|  1|           2|9999-99-99|      2|        1| 40|       2|       2|   2|     2|      2|           2|            2|             2|      2|            2|      2|                   3|  2|\n",
            "|    2|           1|  1|           1|9999-99-99|     97|        2| 64|       2|       2|   2|     2|      2|           2|            2|             2|      2|            2|      2|                   3| 97|\n",
            "|    2|           1|  1|           1|9999-99-99|     97|        1| 64|       2|       1|   2|     2|      1|           1|            2|             2|      2|            1|      2|                   3| 97|\n",
            "|    2|           1|  1|           2|9999-99-99|      2|        2| 37|       2|       1|   2|     2|      2|           1|            2|             2|      1|            2|      2|                   3|  2|\n",
            "|    2|           1|  1|           2|9999-99-99|      2|        2| 25|       2|       2|   2|     2|      2|           2|            2|             2|      2|            2|      2|                   3|  2|\n",
            "|    2|           1|  1|           1|9999-99-99|     97|        2| 38|       2|       2|   2|     2|      2|           2|            2|             2|      2|            2|      2|                   3| 97|\n",
            "|    2|           1|  2|           2|9999-99-99|      2|        2| 24|      97|       2|   2|     2|      2|           2|            2|             2|      2|            2|      2|                   3|  2|\n",
            "|    2|           1|  2|           2|9999-99-99|      2|        2| 30|      97|       2|   2|     2|      2|           2|            2|             2|      2|            2|      2|                   3|  2|\n",
            "|    2|           1|  2|           1|9999-99-99|     97|        2| 55|      97|       2|   2|     2|      2|           2|            2|             2|      2|            2|      2|                   3| 97|\n",
            "|    2|           1|  1|           1|9999-99-99|     97|        2| 48|       2|       1|   2|     2|      2|           2|            2|             2|      2|            2|      2|                   3| 97|\n",
            "|    2|           1|  1|           1|9999-99-99|     97|        2| 23|       2|       2|   2|     2|      2|           2|            2|             2|      2|            2|      2|                   3| 97|\n",
            "|    2|           1|  1|           2|9999-99-99|      2|        1| 80|       2|       2|   2|     2|      2|           1|            2|             2|      2|            2|      2|                   3|  1|\n",
            "|    2|           1|  2|           1|9999-99-99|     97|        2| 61|      97|       2|   2|     2|      2|           2|            2|             2|      2|            2|      2|                   3| 97|\n",
            "|    2|           1|  2|           1|9999-99-99|     97|        2| 54|      97|       2|   2|     2|      2|           2|            2|             2|      2|            2|      2|                   3| 97|\n",
            "|    2|           1|  1|           1|9999-99-99|     97|        2| 64|       2|       2|   2|     2|      2|           2|            2|             2|      2|            2|      2|                   3| 97|\n",
            "+-----+------------+---+------------+----------+-------+---------+---+--------+--------+----+------+-------+------------+-------------+--------------+-------+-------------+-------+--------------------+---+\n",
            "only showing top 20 rows\n",
            "\n"
          ]
        }
      ]
    },
    {
      "cell_type": "markdown",
      "source": [
        "####Drop Rows"
      ],
      "metadata": {
        "id": "-VU6DmsqMKlr"
      }
    },
    {
      "cell_type": "code",
      "source": [
        "df.na.drop().show()"
      ],
      "metadata": {
        "colab": {
          "base_uri": "https://localhost:8080/"
        },
        "id": "1JrrN9-TKcr-",
        "outputId": "fa8f22a4-1714-426e-99c0-041bea72601b"
      },
      "execution_count": 47,
      "outputs": [
        {
          "output_type": "stream",
          "name": "stdout",
          "text": [
            "+-----+------------+---+------------+----------+-------+---------+---+--------+--------+----+------+-------+------------+-------------+--------------+-------+-------------+-------+--------------------+---+\n",
            "|USMER|MEDICAL_UNIT|SEX|PATIENT_TYPE| DATE_DIED|INTUBED|PNEUMONIA|AGE|PREGNANT|DIABETES|COPD|ASTHMA|INMSUPR|HIPERTENSION|OTHER_DISEASE|CARDIOVASCULAR|OBESITY|RENAL_CHRONIC|TOBACCO|CLASIFFICATION_FINAL|ICU|\n",
            "+-----+------------+---+------------+----------+-------+---------+---+--------+--------+----+------+-------+------------+-------------+--------------+-------+-------------+-------+--------------------+---+\n",
            "|    2|           1|  1|           1|03/05/2020|     97|        1| 65|       2|       2|   2|     2|      2|           1|            2|             2|      2|            2|      2|                   3| 97|\n",
            "|    2|           1|  2|           1|03/06/2020|     97|        1| 72|      97|       2|   2|     2|      2|           1|            2|             2|      1|            1|      2|                   5| 97|\n",
            "|    2|           1|  2|           2|09/06/2020|      1|        2| 55|      97|       1|   2|     2|      2|           2|            2|             2|      2|            2|      2|                   3|  2|\n",
            "|    2|           1|  1|           1|12/06/2020|     97|        2| 53|       2|       2|   2|     2|      2|           2|            2|             2|      2|            2|      2|                   7| 97|\n",
            "|    2|           1|  2|           1|21/06/2020|     97|        2| 68|      97|       1|   2|     2|      2|           1|            2|             2|      2|            2|      2|                   3| 97|\n",
            "|    2|           1|  1|           2|9999-99-99|      2|        1| 40|       2|       2|   2|     2|      2|           2|            2|             2|      2|            2|      2|                   3|  2|\n",
            "|    2|           1|  1|           1|9999-99-99|     97|        2| 64|       2|       2|   2|     2|      2|           2|            2|             2|      2|            2|      2|                   3| 97|\n",
            "|    2|           1|  1|           1|9999-99-99|     97|        1| 64|       2|       1|   2|     2|      1|           1|            2|             2|      2|            1|      2|                   3| 97|\n",
            "|    2|           1|  1|           2|9999-99-99|      2|        2| 37|       2|       1|   2|     2|      2|           1|            2|             2|      1|            2|      2|                   3|  2|\n",
            "|    2|           1|  1|           2|9999-99-99|      2|        2| 25|       2|       2|   2|     2|      2|           2|            2|             2|      2|            2|      2|                   3|  2|\n",
            "|    2|           1|  1|           1|9999-99-99|     97|        2| 38|       2|       2|   2|     2|      2|           2|            2|             2|      2|            2|      2|                   3| 97|\n",
            "|    2|           1|  2|           2|9999-99-99|      2|        2| 24|      97|       2|   2|     2|      2|           2|            2|             2|      2|            2|      2|                   3|  2|\n",
            "|    2|           1|  2|           2|9999-99-99|      2|        2| 30|      97|       2|   2|     2|      2|           2|            2|             2|      2|            2|      2|                   3|  2|\n",
            "|    2|           1|  2|           1|9999-99-99|     97|        2| 55|      97|       2|   2|     2|      2|           2|            2|             2|      2|            2|      2|                   3| 97|\n",
            "|    2|           1|  1|           1|9999-99-99|     97|        2| 48|       2|       1|   2|     2|      2|           2|            2|             2|      2|            2|      2|                   3| 97|\n",
            "|    2|           1|  1|           1|9999-99-99|     97|        2| 23|       2|       2|   2|     2|      2|           2|            2|             2|      2|            2|      2|                   3| 97|\n",
            "|    2|           1|  1|           2|9999-99-99|      2|        1| 80|       2|       2|   2|     2|      2|           1|            2|             2|      2|            2|      2|                   3|  1|\n",
            "|    2|           1|  2|           1|9999-99-99|     97|        2| 61|      97|       2|   2|     2|      2|           2|            2|             2|      2|            2|      2|                   3| 97|\n",
            "|    2|           1|  2|           1|9999-99-99|     97|        2| 54|      97|       2|   2|     2|      2|           2|            2|             2|      2|            2|      2|                   3| 97|\n",
            "|    2|           1|  1|           1|9999-99-99|     97|        2| 64|       2|       2|   2|     2|      2|           2|            2|             2|      2|            2|      2|                   3| 97|\n",
            "+-----+------------+---+------------+----------+-------+---------+---+--------+--------+----+------+-------+------------+-------------+--------------+-------+-------------+-------+--------------------+---+\n",
            "only showing top 20 rows\n",
            "\n"
          ]
        }
      ]
    },
    {
      "cell_type": "code",
      "source": [
        "df.na.drop(how='any',thresh=2).show()"
      ],
      "metadata": {
        "colab": {
          "base_uri": "https://localhost:8080/"
        },
        "id": "m66_nS8dMpKX",
        "outputId": "0f7c2daa-c525-417b-b187-db8612236e97"
      },
      "execution_count": 48,
      "outputs": [
        {
          "output_type": "stream",
          "name": "stdout",
          "text": [
            "+-----+------------+---+------------+----------+-------+---------+---+--------+--------+----+------+-------+------------+-------------+--------------+-------+-------------+-------+--------------------+---+\n",
            "|USMER|MEDICAL_UNIT|SEX|PATIENT_TYPE| DATE_DIED|INTUBED|PNEUMONIA|AGE|PREGNANT|DIABETES|COPD|ASTHMA|INMSUPR|HIPERTENSION|OTHER_DISEASE|CARDIOVASCULAR|OBESITY|RENAL_CHRONIC|TOBACCO|CLASIFFICATION_FINAL|ICU|\n",
            "+-----+------------+---+------------+----------+-------+---------+---+--------+--------+----+------+-------+------------+-------------+--------------+-------+-------------+-------+--------------------+---+\n",
            "|    2|           1|  1|           1|03/05/2020|     97|        1| 65|       2|       2|   2|     2|      2|           1|            2|             2|      2|            2|      2|                   3| 97|\n",
            "|    2|           1|  2|           1|03/06/2020|     97|        1| 72|      97|       2|   2|     2|      2|           1|            2|             2|      1|            1|      2|                   5| 97|\n",
            "|    2|           1|  2|           2|09/06/2020|      1|        2| 55|      97|       1|   2|     2|      2|           2|            2|             2|      2|            2|      2|                   3|  2|\n",
            "|    2|           1|  1|           1|12/06/2020|     97|        2| 53|       2|       2|   2|     2|      2|           2|            2|             2|      2|            2|      2|                   7| 97|\n",
            "|    2|           1|  2|           1|21/06/2020|     97|        2| 68|      97|       1|   2|     2|      2|           1|            2|             2|      2|            2|      2|                   3| 97|\n",
            "|    2|           1|  1|           2|9999-99-99|      2|        1| 40|       2|       2|   2|     2|      2|           2|            2|             2|      2|            2|      2|                   3|  2|\n",
            "|    2|           1|  1|           1|9999-99-99|     97|        2| 64|       2|       2|   2|     2|      2|           2|            2|             2|      2|            2|      2|                   3| 97|\n",
            "|    2|           1|  1|           1|9999-99-99|     97|        1| 64|       2|       1|   2|     2|      1|           1|            2|             2|      2|            1|      2|                   3| 97|\n",
            "|    2|           1|  1|           2|9999-99-99|      2|        2| 37|       2|       1|   2|     2|      2|           1|            2|             2|      1|            2|      2|                   3|  2|\n",
            "|    2|           1|  1|           2|9999-99-99|      2|        2| 25|       2|       2|   2|     2|      2|           2|            2|             2|      2|            2|      2|                   3|  2|\n",
            "|    2|           1|  1|           1|9999-99-99|     97|        2| 38|       2|       2|   2|     2|      2|           2|            2|             2|      2|            2|      2|                   3| 97|\n",
            "|    2|           1|  2|           2|9999-99-99|      2|        2| 24|      97|       2|   2|     2|      2|           2|            2|             2|      2|            2|      2|                   3|  2|\n",
            "|    2|           1|  2|           2|9999-99-99|      2|        2| 30|      97|       2|   2|     2|      2|           2|            2|             2|      2|            2|      2|                   3|  2|\n",
            "|    2|           1|  2|           1|9999-99-99|     97|        2| 55|      97|       2|   2|     2|      2|           2|            2|             2|      2|            2|      2|                   3| 97|\n",
            "|    2|           1|  1|           1|9999-99-99|     97|        2| 48|       2|       1|   2|     2|      2|           2|            2|             2|      2|            2|      2|                   3| 97|\n",
            "|    2|           1|  1|           1|9999-99-99|     97|        2| 23|       2|       2|   2|     2|      2|           2|            2|             2|      2|            2|      2|                   3| 97|\n",
            "|    2|           1|  1|           2|9999-99-99|      2|        1| 80|       2|       2|   2|     2|      2|           1|            2|             2|      2|            2|      2|                   3|  1|\n",
            "|    2|           1|  2|           1|9999-99-99|     97|        2| 61|      97|       2|   2|     2|      2|           2|            2|             2|      2|            2|      2|                   3| 97|\n",
            "|    2|           1|  2|           1|9999-99-99|     97|        2| 54|      97|       2|   2|     2|      2|           2|            2|             2|      2|            2|      2|                   3| 97|\n",
            "|    2|           1|  1|           1|9999-99-99|     97|        2| 64|       2|       2|   2|     2|      2|           2|            2|             2|      2|            2|      2|                   3| 97|\n",
            "+-----+------------+---+------------+----------+-------+---------+---+--------+--------+----+------+-------+------------+-------------+--------------+-------+-------------+-------+--------------------+---+\n",
            "only showing top 20 rows\n",
            "\n"
          ]
        }
      ]
    },
    {
      "cell_type": "markdown",
      "source": [
        "####Fill na with values"
      ],
      "metadata": {
        "id": "-B7hJhYFObES"
      }
    },
    {
      "cell_type": "code",
      "source": [
        "df.na.fill(0).show()"
      ],
      "metadata": {
        "colab": {
          "base_uri": "https://localhost:8080/"
        },
        "id": "hh-W5bZJM2T5",
        "outputId": "59a9c09b-538d-4b06-c1ef-e643e958cbed"
      },
      "execution_count": 49,
      "outputs": [
        {
          "output_type": "stream",
          "name": "stdout",
          "text": [
            "+-----+------------+---+------------+----------+-------+---------+---+--------+--------+----+------+-------+------------+-------------+--------------+-------+-------------+-------+--------------------+---+\n",
            "|USMER|MEDICAL_UNIT|SEX|PATIENT_TYPE| DATE_DIED|INTUBED|PNEUMONIA|AGE|PREGNANT|DIABETES|COPD|ASTHMA|INMSUPR|HIPERTENSION|OTHER_DISEASE|CARDIOVASCULAR|OBESITY|RENAL_CHRONIC|TOBACCO|CLASIFFICATION_FINAL|ICU|\n",
            "+-----+------------+---+------------+----------+-------+---------+---+--------+--------+----+------+-------+------------+-------------+--------------+-------+-------------+-------+--------------------+---+\n",
            "|    2|           1|  1|           1|03/05/2020|     97|        1| 65|       2|       2|   2|     2|      2|           1|            2|             2|      2|            2|      2|                   3| 97|\n",
            "|    2|           1|  2|           1|03/06/2020|     97|        1| 72|      97|       2|   2|     2|      2|           1|            2|             2|      1|            1|      2|                   5| 97|\n",
            "|    2|           1|  2|           2|09/06/2020|      1|        2| 55|      97|       1|   2|     2|      2|           2|            2|             2|      2|            2|      2|                   3|  2|\n",
            "|    2|           1|  1|           1|12/06/2020|     97|        2| 53|       2|       2|   2|     2|      2|           2|            2|             2|      2|            2|      2|                   7| 97|\n",
            "|    2|           1|  2|           1|21/06/2020|     97|        2| 68|      97|       1|   2|     2|      2|           1|            2|             2|      2|            2|      2|                   3| 97|\n",
            "|    2|           1|  1|           2|9999-99-99|      2|        1| 40|       2|       2|   2|     2|      2|           2|            2|             2|      2|            2|      2|                   3|  2|\n",
            "|    2|           1|  1|           1|9999-99-99|     97|        2| 64|       2|       2|   2|     2|      2|           2|            2|             2|      2|            2|      2|                   3| 97|\n",
            "|    2|           1|  1|           1|9999-99-99|     97|        1| 64|       2|       1|   2|     2|      1|           1|            2|             2|      2|            1|      2|                   3| 97|\n",
            "|    2|           1|  1|           2|9999-99-99|      2|        2| 37|       2|       1|   2|     2|      2|           1|            2|             2|      1|            2|      2|                   3|  2|\n",
            "|    2|           1|  1|           2|9999-99-99|      2|        2| 25|       2|       2|   2|     2|      2|           2|            2|             2|      2|            2|      2|                   3|  2|\n",
            "|    2|           1|  1|           1|9999-99-99|     97|        2| 38|       2|       2|   2|     2|      2|           2|            2|             2|      2|            2|      2|                   3| 97|\n",
            "|    2|           1|  2|           2|9999-99-99|      2|        2| 24|      97|       2|   2|     2|      2|           2|            2|             2|      2|            2|      2|                   3|  2|\n",
            "|    2|           1|  2|           2|9999-99-99|      2|        2| 30|      97|       2|   2|     2|      2|           2|            2|             2|      2|            2|      2|                   3|  2|\n",
            "|    2|           1|  2|           1|9999-99-99|     97|        2| 55|      97|       2|   2|     2|      2|           2|            2|             2|      2|            2|      2|                   3| 97|\n",
            "|    2|           1|  1|           1|9999-99-99|     97|        2| 48|       2|       1|   2|     2|      2|           2|            2|             2|      2|            2|      2|                   3| 97|\n",
            "|    2|           1|  1|           1|9999-99-99|     97|        2| 23|       2|       2|   2|     2|      2|           2|            2|             2|      2|            2|      2|                   3| 97|\n",
            "|    2|           1|  1|           2|9999-99-99|      2|        1| 80|       2|       2|   2|     2|      2|           1|            2|             2|      2|            2|      2|                   3|  1|\n",
            "|    2|           1|  2|           1|9999-99-99|     97|        2| 61|      97|       2|   2|     2|      2|           2|            2|             2|      2|            2|      2|                   3| 97|\n",
            "|    2|           1|  2|           1|9999-99-99|     97|        2| 54|      97|       2|   2|     2|      2|           2|            2|             2|      2|            2|      2|                   3| 97|\n",
            "|    2|           1|  1|           1|9999-99-99|     97|        2| 64|       2|       2|   2|     2|      2|           2|            2|             2|      2|            2|      2|                   3| 97|\n",
            "+-----+------------+---+------------+----------+-------+---------+---+--------+--------+----+------+-------+------------+-------------+--------------+-------+-------------+-------+--------------------+---+\n",
            "only showing top 20 rows\n",
            "\n"
          ]
        }
      ]
    },
    {
      "cell_type": "markdown",
      "source": [
        "##Imputer"
      ],
      "metadata": {
        "id": "QyvAi71cOqCQ"
      }
    },
    {
      "cell_type": "code",
      "source": [
        "from pyspark.ml.feature import Imputer"
      ],
      "metadata": {
        "id": "BiVrfLnqOg6n"
      },
      "execution_count": 50,
      "outputs": []
    },
    {
      "cell_type": "code",
      "source": [
        "imputer=Imputer(inputCols=['MEDICAL_UNIT'],outputCols=['{}_imputed'.format(c) for c in ['MEDICAL UNIT']]).setStrategy('mean')"
      ],
      "metadata": {
        "id": "ENSjvPNqO-_x"
      },
      "execution_count": 51,
      "outputs": []
    },
    {
      "cell_type": "code",
      "source": [
        "imputer.fit(df).transform(df).show()"
      ],
      "metadata": {
        "colab": {
          "base_uri": "https://localhost:8080/"
        },
        "id": "7qPIU3jEPw6t",
        "outputId": "663b6ac0-6172-4646-b8a2-18f3719a463d"
      },
      "execution_count": 52,
      "outputs": [
        {
          "output_type": "stream",
          "name": "stdout",
          "text": [
            "+-----+------------+---+------------+----------+-------+---------+---+--------+--------+----+------+-------+------------+-------------+--------------+-------+-------------+-------+--------------------+---+--------------------+\n",
            "|USMER|MEDICAL_UNIT|SEX|PATIENT_TYPE| DATE_DIED|INTUBED|PNEUMONIA|AGE|PREGNANT|DIABETES|COPD|ASTHMA|INMSUPR|HIPERTENSION|OTHER_DISEASE|CARDIOVASCULAR|OBESITY|RENAL_CHRONIC|TOBACCO|CLASIFFICATION_FINAL|ICU|MEDICAL UNIT_imputed|\n",
            "+-----+------------+---+------------+----------+-------+---------+---+--------+--------+----+------+-------+------------+-------------+--------------+-------+-------------+-------+--------------------+---+--------------------+\n",
            "|    2|           1|  1|           1|03/05/2020|     97|        1| 65|       2|       2|   2|     2|      2|           1|            2|             2|      2|            2|      2|                   3| 97|                   1|\n",
            "|    2|           1|  2|           1|03/06/2020|     97|        1| 72|      97|       2|   2|     2|      2|           1|            2|             2|      1|            1|      2|                   5| 97|                   1|\n",
            "|    2|           1|  2|           2|09/06/2020|      1|        2| 55|      97|       1|   2|     2|      2|           2|            2|             2|      2|            2|      2|                   3|  2|                   1|\n",
            "|    2|           1|  1|           1|12/06/2020|     97|        2| 53|       2|       2|   2|     2|      2|           2|            2|             2|      2|            2|      2|                   7| 97|                   1|\n",
            "|    2|           1|  2|           1|21/06/2020|     97|        2| 68|      97|       1|   2|     2|      2|           1|            2|             2|      2|            2|      2|                   3| 97|                   1|\n",
            "|    2|           1|  1|           2|9999-99-99|      2|        1| 40|       2|       2|   2|     2|      2|           2|            2|             2|      2|            2|      2|                   3|  2|                   1|\n",
            "|    2|           1|  1|           1|9999-99-99|     97|        2| 64|       2|       2|   2|     2|      2|           2|            2|             2|      2|            2|      2|                   3| 97|                   1|\n",
            "|    2|           1|  1|           1|9999-99-99|     97|        1| 64|       2|       1|   2|     2|      1|           1|            2|             2|      2|            1|      2|                   3| 97|                   1|\n",
            "|    2|           1|  1|           2|9999-99-99|      2|        2| 37|       2|       1|   2|     2|      2|           1|            2|             2|      1|            2|      2|                   3|  2|                   1|\n",
            "|    2|           1|  1|           2|9999-99-99|      2|        2| 25|       2|       2|   2|     2|      2|           2|            2|             2|      2|            2|      2|                   3|  2|                   1|\n",
            "|    2|           1|  1|           1|9999-99-99|     97|        2| 38|       2|       2|   2|     2|      2|           2|            2|             2|      2|            2|      2|                   3| 97|                   1|\n",
            "|    2|           1|  2|           2|9999-99-99|      2|        2| 24|      97|       2|   2|     2|      2|           2|            2|             2|      2|            2|      2|                   3|  2|                   1|\n",
            "|    2|           1|  2|           2|9999-99-99|      2|        2| 30|      97|       2|   2|     2|      2|           2|            2|             2|      2|            2|      2|                   3|  2|                   1|\n",
            "|    2|           1|  2|           1|9999-99-99|     97|        2| 55|      97|       2|   2|     2|      2|           2|            2|             2|      2|            2|      2|                   3| 97|                   1|\n",
            "|    2|           1|  1|           1|9999-99-99|     97|        2| 48|       2|       1|   2|     2|      2|           2|            2|             2|      2|            2|      2|                   3| 97|                   1|\n",
            "|    2|           1|  1|           1|9999-99-99|     97|        2| 23|       2|       2|   2|     2|      2|           2|            2|             2|      2|            2|      2|                   3| 97|                   1|\n",
            "|    2|           1|  1|           2|9999-99-99|      2|        1| 80|       2|       2|   2|     2|      2|           1|            2|             2|      2|            2|      2|                   3|  1|                   1|\n",
            "|    2|           1|  2|           1|9999-99-99|     97|        2| 61|      97|       2|   2|     2|      2|           2|            2|             2|      2|            2|      2|                   3| 97|                   1|\n",
            "|    2|           1|  2|           1|9999-99-99|     97|        2| 54|      97|       2|   2|     2|      2|           2|            2|             2|      2|            2|      2|                   3| 97|                   1|\n",
            "|    2|           1|  1|           1|9999-99-99|     97|        2| 64|       2|       2|   2|     2|      2|           2|            2|             2|      2|            2|      2|                   3| 97|                   1|\n",
            "+-----+------------+---+------------+----------+-------+---------+---+--------+--------+----+------+-------+------------+-------------+--------------+-------+-------------+-------+--------------------+---+--------------------+\n",
            "only showing top 20 rows\n",
            "\n"
          ]
        }
      ]
    },
    {
      "cell_type": "markdown",
      "source": [
        "##Filter Operations"
      ],
      "metadata": {
        "id": "BqhdsLVFQEyr"
      }
    },
    {
      "cell_type": "code",
      "source": [
        "#selecting all columns\n",
        "df.filter('AGE>30').show()"
      ],
      "metadata": {
        "colab": {
          "base_uri": "https://localhost:8080/"
        },
        "id": "l_FV6pwEP8Vp",
        "outputId": "4494cfbf-e7ee-4490-a3a7-c2427c20f116"
      },
      "execution_count": 54,
      "outputs": [
        {
          "output_type": "stream",
          "name": "stdout",
          "text": [
            "+-----+------------+---+------------+----------+-------+---------+---+--------+--------+----+------+-------+------------+-------------+--------------+-------+-------------+-------+--------------------+---+\n",
            "|USMER|MEDICAL_UNIT|SEX|PATIENT_TYPE| DATE_DIED|INTUBED|PNEUMONIA|AGE|PREGNANT|DIABETES|COPD|ASTHMA|INMSUPR|HIPERTENSION|OTHER_DISEASE|CARDIOVASCULAR|OBESITY|RENAL_CHRONIC|TOBACCO|CLASIFFICATION_FINAL|ICU|\n",
            "+-----+------------+---+------------+----------+-------+---------+---+--------+--------+----+------+-------+------------+-------------+--------------+-------+-------------+-------+--------------------+---+\n",
            "|    2|           1|  1|           1|03/05/2020|     97|        1| 65|       2|       2|   2|     2|      2|           1|            2|             2|      2|            2|      2|                   3| 97|\n",
            "|    2|           1|  2|           1|03/06/2020|     97|        1| 72|      97|       2|   2|     2|      2|           1|            2|             2|      1|            1|      2|                   5| 97|\n",
            "|    2|           1|  2|           2|09/06/2020|      1|        2| 55|      97|       1|   2|     2|      2|           2|            2|             2|      2|            2|      2|                   3|  2|\n",
            "|    2|           1|  1|           1|12/06/2020|     97|        2| 53|       2|       2|   2|     2|      2|           2|            2|             2|      2|            2|      2|                   7| 97|\n",
            "|    2|           1|  2|           1|21/06/2020|     97|        2| 68|      97|       1|   2|     2|      2|           1|            2|             2|      2|            2|      2|                   3| 97|\n",
            "|    2|           1|  1|           2|9999-99-99|      2|        1| 40|       2|       2|   2|     2|      2|           2|            2|             2|      2|            2|      2|                   3|  2|\n",
            "|    2|           1|  1|           1|9999-99-99|     97|        2| 64|       2|       2|   2|     2|      2|           2|            2|             2|      2|            2|      2|                   3| 97|\n",
            "|    2|           1|  1|           1|9999-99-99|     97|        1| 64|       2|       1|   2|     2|      1|           1|            2|             2|      2|            1|      2|                   3| 97|\n",
            "|    2|           1|  1|           2|9999-99-99|      2|        2| 37|       2|       1|   2|     2|      2|           1|            2|             2|      1|            2|      2|                   3|  2|\n",
            "|    2|           1|  1|           1|9999-99-99|     97|        2| 38|       2|       2|   2|     2|      2|           2|            2|             2|      2|            2|      2|                   3| 97|\n",
            "|    2|           1|  2|           1|9999-99-99|     97|        2| 55|      97|       2|   2|     2|      2|           2|            2|             2|      2|            2|      2|                   3| 97|\n",
            "|    2|           1|  1|           1|9999-99-99|     97|        2| 48|       2|       1|   2|     2|      2|           2|            2|             2|      2|            2|      2|                   3| 97|\n",
            "|    2|           1|  1|           2|9999-99-99|      2|        1| 80|       2|       2|   2|     2|      2|           1|            2|             2|      2|            2|      2|                   3|  1|\n",
            "|    2|           1|  2|           1|9999-99-99|     97|        2| 61|      97|       2|   2|     2|      2|           2|            2|             2|      2|            2|      2|                   3| 97|\n",
            "|    2|           1|  2|           1|9999-99-99|     97|        2| 54|      97|       2|   2|     2|      2|           2|            2|             2|      2|            2|      2|                   3| 97|\n",
            "|    2|           1|  1|           1|9999-99-99|     97|        2| 64|       2|       2|   2|     2|      2|           2|            2|             2|      2|            2|      2|                   3| 97|\n",
            "|    2|           1|  2|           2|9999-99-99|      2|        1| 59|      97|       1|   2|     2|      2|           2|            2|             2|      2|            2|      1|                   3|  1|\n",
            "|    2|           1|  2|           1|9999-99-99|     97|        2| 45|      97|       2|   2|     2|      2|           2|            2|             2|      2|            2|      2|                   3| 97|\n",
            "|    2|           1|  1|           1|9999-99-99|     97|        2| 38|       2|       2|   2|     2|      2|           2|            2|             2|      2|            1|      2|                   3| 97|\n",
            "|    2|           1|  2|           1|9999-99-99|     97|        2| 32|      97|       2|   2|     2|      2|           2|            2|             2|      2|            2|      2|                   3| 97|\n",
            "+-----+------------+---+------------+----------+-------+---------+---+--------+--------+----+------+-------+------------+-------------+--------------+-------+-------------+-------+--------------------+---+\n",
            "only showing top 20 rows\n",
            "\n"
          ]
        }
      ]
    },
    {
      "cell_type": "code",
      "source": [
        "#Selecting specific columns\n",
        "df.filter('AGE>30').select('age','CLASIFFICATION_FINAL').show()"
      ],
      "metadata": {
        "colab": {
          "base_uri": "https://localhost:8080/"
        },
        "id": "iJ56t3L8QVTP",
        "outputId": "8266e552-6e14-453d-9bb2-876e7f07b3b9"
      },
      "execution_count": 55,
      "outputs": [
        {
          "output_type": "stream",
          "name": "stdout",
          "text": [
            "+---+--------------------+\n",
            "|age|CLASIFFICATION_FINAL|\n",
            "+---+--------------------+\n",
            "| 65|                   3|\n",
            "| 72|                   5|\n",
            "| 55|                   3|\n",
            "| 53|                   7|\n",
            "| 68|                   3|\n",
            "| 40|                   3|\n",
            "| 64|                   3|\n",
            "| 64|                   3|\n",
            "| 37|                   3|\n",
            "| 38|                   3|\n",
            "| 55|                   3|\n",
            "| 48|                   3|\n",
            "| 80|                   3|\n",
            "| 61|                   3|\n",
            "| 54|                   3|\n",
            "| 64|                   3|\n",
            "| 59|                   3|\n",
            "| 45|                   3|\n",
            "| 38|                   3|\n",
            "| 32|                   3|\n",
            "+---+--------------------+\n",
            "only showing top 20 rows\n",
            "\n"
          ]
        }
      ]
    },
    {
      "cell_type": "markdown",
      "source": [
        "##Groupby and agregate"
      ],
      "metadata": {
        "id": "KDNOzHA5Q5vS"
      }
    },
    {
      "cell_type": "code",
      "source": [
        "#WE CAN USE SUM,COUNT,MEAN AND OTHER AGGREGATE FUNCTIONS\n",
        "df.groupBy('CLASIFFICATION_FINAL').count().show()"
      ],
      "metadata": {
        "colab": {
          "base_uri": "https://localhost:8080/"
        },
        "id": "GXdovLIlQsI5",
        "outputId": "b216f608-2852-4c3b-ddc4-343c2f8a7770"
      },
      "execution_count": 62,
      "outputs": [
        {
          "output_type": "stream",
          "name": "stdout",
          "text": [
            "+--------------------+------+\n",
            "|CLASIFFICATION_FINAL| count|\n",
            "+--------------------+------+\n",
            "|                   1|  8601|\n",
            "|                   6|128133|\n",
            "|                   3|381527|\n",
            "|                   5| 26091|\n",
            "|                   4|  3122|\n",
            "|                   7|499250|\n",
            "|                   2|  1851|\n",
            "+--------------------+------+\n",
            "\n"
          ]
        }
      ]
    },
    {
      "cell_type": "markdown",
      "source": [
        "##Creating independent fetaures using Vector Assembler"
      ],
      "metadata": {
        "id": "xWRtuyj5V7uW"
      }
    },
    {
      "cell_type": "code",
      "source": [
        "df.columns"
      ],
      "metadata": {
        "colab": {
          "base_uri": "https://localhost:8080/"
        },
        "id": "_nrgfHpCRGJA",
        "outputId": "5fbbf8f3-31ba-4533-e67a-6ac2f096a508"
      },
      "execution_count": 63,
      "outputs": [
        {
          "output_type": "execute_result",
          "data": {
            "text/plain": [
              "['USMER',\n",
              " 'MEDICAL_UNIT',\n",
              " 'SEX',\n",
              " 'PATIENT_TYPE',\n",
              " 'DATE_DIED',\n",
              " 'INTUBED',\n",
              " 'PNEUMONIA',\n",
              " 'AGE',\n",
              " 'PREGNANT',\n",
              " 'DIABETES',\n",
              " 'COPD',\n",
              " 'ASTHMA',\n",
              " 'INMSUPR',\n",
              " 'HIPERTENSION',\n",
              " 'OTHER_DISEASE',\n",
              " 'CARDIOVASCULAR',\n",
              " 'OBESITY',\n",
              " 'RENAL_CHRONIC',\n",
              " 'TOBACCO',\n",
              " 'CLASIFFICATION_FINAL',\n",
              " 'ICU']"
            ]
          },
          "metadata": {},
          "execution_count": 63
        }
      ]
    },
    {
      "cell_type": "code",
      "source": [
        "from pyspark.ml.feature import VectorAssembler"
      ],
      "metadata": {
        "id": "JBIPVDRSWEjq"
      },
      "execution_count": 64,
      "outputs": []
    },
    {
      "cell_type": "code",
      "source": [
        "feature_assembler=VectorAssembler(inputCols=[ 'MEDICAL_UNIT','SEX','PATIENT_TYPE','INTUBED','PNEUMONIA','AGE','PREGNANT','DIABETES','COPD',\n",
        "                                             'ASTHMA','INMSUPR','HIPERTENSION','OTHER_DISEASE','CARDIOVASCULAR','OBESITY','RENAL_CHRONIC','TOBACCO'],\n",
        "                                  outputCol='Ind_feature')"
      ],
      "metadata": {
        "id": "uxdB5OTgWWTT"
      },
      "execution_count": 72,
      "outputs": []
    },
    {
      "cell_type": "code",
      "source": [
        "output=feature_assembler.transform(df)"
      ],
      "metadata": {
        "id": "8KPgdvzsWwnR"
      },
      "execution_count": 73,
      "outputs": []
    },
    {
      "cell_type": "code",
      "source": [
        "output.show()"
      ],
      "metadata": {
        "colab": {
          "base_uri": "https://localhost:8080/"
        },
        "id": "7NAQLoxrW-HR",
        "outputId": "44403276-c529-460f-f1a0-45412a663b0f"
      },
      "execution_count": 74,
      "outputs": [
        {
          "output_type": "stream",
          "name": "stdout",
          "text": [
            "+-----+------------+---+------------+----------+-------+---------+---+--------+--------+----+------+-------+------------+-------------+--------------+-------+-------------+-------+--------------------+---+--------------------+\n",
            "|USMER|MEDICAL_UNIT|SEX|PATIENT_TYPE| DATE_DIED|INTUBED|PNEUMONIA|AGE|PREGNANT|DIABETES|COPD|ASTHMA|INMSUPR|HIPERTENSION|OTHER_DISEASE|CARDIOVASCULAR|OBESITY|RENAL_CHRONIC|TOBACCO|CLASIFFICATION_FINAL|ICU|         Ind_feature|\n",
            "+-----+------------+---+------------+----------+-------+---------+---+--------+--------+----+------+-------+------------+-------------+--------------+-------+-------------+-------+--------------------+---+--------------------+\n",
            "|    2|           1|  1|           1|03/05/2020|     97|        1| 65|       2|       2|   2|     2|      2|           1|            2|             2|      2|            2|      2|                   3| 97|[1.0,1.0,1.0,97.0...|\n",
            "|    2|           1|  2|           1|03/06/2020|     97|        1| 72|      97|       2|   2|     2|      2|           1|            2|             2|      1|            1|      2|                   5| 97|[1.0,2.0,1.0,97.0...|\n",
            "|    2|           1|  2|           2|09/06/2020|      1|        2| 55|      97|       1|   2|     2|      2|           2|            2|             2|      2|            2|      2|                   3|  2|[1.0,2.0,2.0,1.0,...|\n",
            "|    2|           1|  1|           1|12/06/2020|     97|        2| 53|       2|       2|   2|     2|      2|           2|            2|             2|      2|            2|      2|                   7| 97|[1.0,1.0,1.0,97.0...|\n",
            "|    2|           1|  2|           1|21/06/2020|     97|        2| 68|      97|       1|   2|     2|      2|           1|            2|             2|      2|            2|      2|                   3| 97|[1.0,2.0,1.0,97.0...|\n",
            "|    2|           1|  1|           2|9999-99-99|      2|        1| 40|       2|       2|   2|     2|      2|           2|            2|             2|      2|            2|      2|                   3|  2|[1.0,1.0,2.0,2.0,...|\n",
            "|    2|           1|  1|           1|9999-99-99|     97|        2| 64|       2|       2|   2|     2|      2|           2|            2|             2|      2|            2|      2|                   3| 97|[1.0,1.0,1.0,97.0...|\n",
            "|    2|           1|  1|           1|9999-99-99|     97|        1| 64|       2|       1|   2|     2|      1|           1|            2|             2|      2|            1|      2|                   3| 97|[1.0,1.0,1.0,97.0...|\n",
            "|    2|           1|  1|           2|9999-99-99|      2|        2| 37|       2|       1|   2|     2|      2|           1|            2|             2|      1|            2|      2|                   3|  2|[1.0,1.0,2.0,2.0,...|\n",
            "|    2|           1|  1|           2|9999-99-99|      2|        2| 25|       2|       2|   2|     2|      2|           2|            2|             2|      2|            2|      2|                   3|  2|[1.0,1.0,2.0,2.0,...|\n",
            "|    2|           1|  1|           1|9999-99-99|     97|        2| 38|       2|       2|   2|     2|      2|           2|            2|             2|      2|            2|      2|                   3| 97|[1.0,1.0,1.0,97.0...|\n",
            "|    2|           1|  2|           2|9999-99-99|      2|        2| 24|      97|       2|   2|     2|      2|           2|            2|             2|      2|            2|      2|                   3|  2|[1.0,2.0,2.0,2.0,...|\n",
            "|    2|           1|  2|           2|9999-99-99|      2|        2| 30|      97|       2|   2|     2|      2|           2|            2|             2|      2|            2|      2|                   3|  2|[1.0,2.0,2.0,2.0,...|\n",
            "|    2|           1|  2|           1|9999-99-99|     97|        2| 55|      97|       2|   2|     2|      2|           2|            2|             2|      2|            2|      2|                   3| 97|[1.0,2.0,1.0,97.0...|\n",
            "|    2|           1|  1|           1|9999-99-99|     97|        2| 48|       2|       1|   2|     2|      2|           2|            2|             2|      2|            2|      2|                   3| 97|[1.0,1.0,1.0,97.0...|\n",
            "|    2|           1|  1|           1|9999-99-99|     97|        2| 23|       2|       2|   2|     2|      2|           2|            2|             2|      2|            2|      2|                   3| 97|[1.0,1.0,1.0,97.0...|\n",
            "|    2|           1|  1|           2|9999-99-99|      2|        1| 80|       2|       2|   2|     2|      2|           1|            2|             2|      2|            2|      2|                   3|  1|[1.0,1.0,2.0,2.0,...|\n",
            "|    2|           1|  2|           1|9999-99-99|     97|        2| 61|      97|       2|   2|     2|      2|           2|            2|             2|      2|            2|      2|                   3| 97|[1.0,2.0,1.0,97.0...|\n",
            "|    2|           1|  2|           1|9999-99-99|     97|        2| 54|      97|       2|   2|     2|      2|           2|            2|             2|      2|            2|      2|                   3| 97|[1.0,2.0,1.0,97.0...|\n",
            "|    2|           1|  1|           1|9999-99-99|     97|        2| 64|       2|       2|   2|     2|      2|           2|            2|             2|      2|            2|      2|                   3| 97|[1.0,1.0,1.0,97.0...|\n",
            "+-----+------------+---+------------+----------+-------+---------+---+--------+--------+----+------+-------+------------+-------------+--------------+-------+-------------+-------+--------------------+---+--------------------+\n",
            "only showing top 20 rows\n",
            "\n"
          ]
        }
      ]
    },
    {
      "cell_type": "markdown",
      "source": [
        "##Splitting the dataset into test and train"
      ],
      "metadata": {
        "id": "0P9EOj2ZYZEf"
      }
    },
    {
      "cell_type": "code",
      "source": [
        "train_data,test_data=output.randomSplit([0.75,0.25])"
      ],
      "metadata": {
        "id": "g4jmkdv2YYdu"
      },
      "execution_count": 114,
      "outputs": []
    },
    {
      "cell_type": "markdown",
      "source": [
        "##Logistic Regression for classification"
      ],
      "metadata": {
        "id": "4TTFHHsAYrdF"
      }
    },
    {
      "cell_type": "code",
      "source": [
        "from pyspark.ml.classification import LogisticRegression"
      ],
      "metadata": {
        "id": "yZoccMFMXWvr"
      },
      "execution_count": 115,
      "outputs": []
    },
    {
      "cell_type": "code",
      "source": [
        "classifier=LogisticRegression(featuresCol='Ind_feature',labelCol='CLASIFFICATION_FINAL')"
      ],
      "metadata": {
        "id": "GcbJikiLYN79"
      },
      "execution_count": 116,
      "outputs": []
    },
    {
      "cell_type": "code",
      "source": [
        "train_data_num=train_data.select('Ind_feature','CLASIFFICATION_FINAL')\n",
        "test_data_num=test_data.select('Ind_feature','CLASIFFICATION_FINAL')"
      ],
      "metadata": {
        "id": "imzve9Q9ZJ4r"
      },
      "execution_count": 117,
      "outputs": []
    },
    {
      "cell_type": "code",
      "source": [
        "classifier=classifier.fit(train_data)"
      ],
      "metadata": {
        "id": "TuxHIPV2ZRsB"
      },
      "execution_count": 118,
      "outputs": []
    },
    {
      "cell_type": "code",
      "source": [
        "prediction=classifier.transform(test_data)"
      ],
      "metadata": {
        "id": "1EXTjplhas8K"
      },
      "execution_count": 121,
      "outputs": []
    },
    {
      "cell_type": "code",
      "source": [
        "prediction.groupBy(\"CLASIFFICATION_FINAL\", \"prediction\").count().show()"
      ],
      "metadata": {
        "colab": {
          "base_uri": "https://localhost:8080/"
        },
        "id": "vePc9r00ht5H",
        "outputId": "8a7b9dc7-515f-49f1-a752-1fe91d6ccef7"
      },
      "execution_count": 122,
      "outputs": [
        {
          "output_type": "stream",
          "name": "stdout",
          "text": [
            "+--------------------+----------+------+\n",
            "|CLASIFFICATION_FINAL|prediction| count|\n",
            "+--------------------+----------+------+\n",
            "|                   4|       3.0|   174|\n",
            "|                   7|       3.0| 17091|\n",
            "|                   1|       6.0|     2|\n",
            "|                   1|       7.0|  1511|\n",
            "|                   2|       7.0|    17|\n",
            "|                   1|       3.0|   603|\n",
            "|                   6|       6.0|  2229|\n",
            "|                   5|       7.0|  5070|\n",
            "|                   2|       3.0|   420|\n",
            "|                   3|       7.0| 64209|\n",
            "|                   7|       7.0|107424|\n",
            "|                   3|       3.0| 31237|\n",
            "|                   6|       7.0| 23905|\n",
            "|                   4|       7.0|   601|\n",
            "|                   5|       6.0|    51|\n",
            "|                   5|       3.0|  1354|\n",
            "|                   3|       6.0|    25|\n",
            "|                   7|       6.0|   455|\n",
            "|                   6|       3.0|  5900|\n",
            "+--------------------+----------+------+\n",
            "\n"
          ]
        }
      ]
    },
    {
      "cell_type": "markdown",
      "source": [
        "##Evaluate the model"
      ],
      "metadata": {
        "id": "wKMwqASacIzY"
      }
    },
    {
      "cell_type": "code",
      "source": [
        "TN = prediction.filter('prediction = 0 AND CLASIFFICATION_FINAL = prediction').count()\n",
        "TP = prediction.filter('prediction = 1 AND CLASIFFICATION_FINAL = prediction').count()\n",
        "FN = prediction.filter('prediction = 0 AND CLASIFFICATION_FINAL = 1').count()\n",
        "FP = prediction.filter('prediction = 1 AND CLASIFFICATION_FINAL = 0').count()"
      ],
      "metadata": {
        "id": "UsTPqxfjiGaQ"
      },
      "execution_count": 123,
      "outputs": []
    },
    {
      "cell_type": "code",
      "source": [
        "'''# Calculate precision and recall\n",
        "precision = TP / (TP + FP)\n",
        "recall = TP / (TP + FN)\n",
        "print('precision = {:.2f}\\nrecall   = {:.2f}'.format(precision, recall))'''"
      ],
      "metadata": {
        "colab": {
          "base_uri": "https://localhost:8080/",
          "height": 36
        },
        "id": "4MThYLr_ih7N",
        "outputId": "44c122c6-7b9c-4097-e4d4-e3c571638932"
      },
      "execution_count": 130,
      "outputs": [
        {
          "output_type": "execute_result",
          "data": {
            "text/plain": [
              "\"# Calculate precision and recall\\nprecision = TP / (TP + FP)\\nrecall = TP / (TP + FN)\\nprint('precision = {:.2f}\\nrecall   = {:.2f}'.format(precision, recall))\""
            ],
            "application/vnd.google.colaboratory.intrinsic+json": {
              "type": "string"
            }
          },
          "metadata": {},
          "execution_count": 130
        }
      ]
    },
    {
      "cell_type": "code",
      "source": [
        "from pyspark.ml.evaluation import MulticlassClassificationEvaluator"
      ],
      "metadata": {
        "id": "zq8j2cJ-bnt6"
      },
      "execution_count": 94,
      "outputs": []
    },
    {
      "cell_type": "code",
      "source": [
        "'''multi_evaluator = MulticlassClassificationEvaluator()\n",
        "weighted_precision = multi_evaluator.evaluate(prediction, {multi_evaluator.metricName: \"weightedPrecision\"})'''"
      ],
      "metadata": {
        "colab": {
          "base_uri": "https://localhost:8080/",
          "height": 36
        },
        "id": "bW7tfKuGgWRn",
        "outputId": "1f86f3a0-9bc3-4622-82be-99c65c5dc4a5"
      },
      "execution_count": 131,
      "outputs": [
        {
          "output_type": "execute_result",
          "data": {
            "text/plain": [
              "'multi_evaluator = MulticlassClassificationEvaluator()\\nweighted_precision = multi_evaluator.evaluate(prediction, {multi_evaluator.metricName: \"weightedPrecision\"})'"
            ],
            "application/vnd.google.colaboratory.intrinsic+json": {
              "type": "string"
            }
          },
          "metadata": {},
          "execution_count": 131
        }
      ]
    },
    {
      "cell_type": "code",
      "source": [],
      "metadata": {
        "id": "CSH3-kz4cadL"
      },
      "execution_count": null,
      "outputs": []
    }
  ]
}